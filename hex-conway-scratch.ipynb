{
 "cells": [
  {
   "cell_type": "code",
   "execution_count": null,
   "metadata": {},
   "outputs": [],
   "source": [
    "%load_ext autoreload\n",
    "%autoreload 2\n",
    "%matplotlib inline"
   ]
  },
  {
   "cell_type": "code",
   "execution_count": null,
   "metadata": {},
   "outputs": [],
   "source": [
    "import matplotlib.pyplot as plt\n",
    "import music21 as m21\n",
    "import numpy as np\n",
    "\n",
    "import tonnetz_util as tnzu\n",
    "import tonnetz_cnn as tnzc"
   ]
  },
  {
   "cell_type": "code",
   "execution_count": null,
   "metadata": {},
   "outputs": [],
   "source": [
    "tmap = tnzu.TonnetzMap()\n",
    "# tmap.set_active([[0, -1], [-1, 1], [1, 0]])\n",
    "tmap.set_active([[0, 0], [-1, 0]])"
   ]
  },
  {
   "cell_type": "code",
   "execution_count": null,
   "metadata": {},
   "outputs": [],
   "source": [
    "RULE_CONFIGURATION = {\n",
    "    'b': (2,),  # birth\n",
    "    's': (1, 2,),  # survival\n",
    "}"
   ]
  },
  {
   "cell_type": "code",
   "execution_count": null,
   "metadata": {},
   "outputs": [],
   "source": [
    "gamemaps = [tmap]\n",
    "for i in range(50):\n",
    "    gamemaps.append(tnzu.play_life_hex(gamemaps[-1], RULE_CONFIGURATION))\n",
    "imgs = [g.draw(radius=20) for g in gamemaps]"
   ]
  },
  {
   "cell_type": "code",
   "execution_count": null,
   "metadata": {},
   "outputs": [],
   "source": [
    "temp = tnzu.TonnetzMap()\n",
    "temp.set_active_midi([60, 64, 67])\n",
    "temp.draw(radius=30)"
   ]
  },
  {
   "cell_type": "code",
   "execution_count": null,
   "metadata": {},
   "outputs": [],
   "source": [
    "tnzu.maps2tonnetzgif(gamemaps, \"out/game.gif\", speed=100, radius=20)\n",
    "tnzu.maps2chordscore(gamemaps).write(\"midi\", \"out/game.mid\")"
   ]
  },
  {
   "cell_type": "code",
   "execution_count": null,
   "metadata": {},
   "outputs": [],
   "source": [
    "gamemaps[3].to_oddq_grid()"
   ]
  },
  {
   "cell_type": "code",
   "execution_count": null,
   "metadata": {},
   "outputs": [],
   "source": [
    "# pixcents = hx.axial_to_pixel(np.array(list(notenum2axial.values())), 1)\n",
    "pixcents = (tnzu.axial_to_pixel_mat @ np.array(list(tnzu.notenum2axial.values())).T).T\n",
    "# plotting on xy axis, not pixel coordinates\n",
    "pixcents[:, 1] *= -1\n",
    "fig, ax = plt.subplots()\n",
    "ax.scatter(pixcents[:, 0], pixcents[:, 1], s=1000, c=[[0.2, 0.6, 0.1, 0.5]], marker=\"o\", edgecolors=\"black\")\n",
    "ax.axis(\"equal\")\n",
    "for note, pixcent in zip(tnzu.notenum2axial.keys(), pixcents):\n",
    "    ax.text(pixcent[0], pixcent[1], m21.note.Note(note).nameWithOctave, horizontalalignment=\"center\", verticalalignment=\"center\")\n",
    "fig.set_size_inches(7, 7)"
   ]
  },
  {
   "cell_type": "markdown",
   "metadata": {},
   "source": [
    "convention used by the hex convolutions: odd-q flat"
   ]
  },
  {
   "cell_type": "code",
   "execution_count": null,
   "metadata": {},
   "outputs": [],
   "source": [
    "score = m21.converter.parse(\"other_midis/The Legend of Zelda The Wind Waker - Title.mid\")"
   ]
  },
  {
   "cell_type": "code",
   "execution_count": null,
   "metadata": {},
   "outputs": [],
   "source": [
    "score.parts[0].measure(1).getElementsByClass(m21.tempo.MetronomeMark)[0].number"
   ]
  },
  {
   "cell_type": "code",
   "execution_count": null,
   "metadata": {},
   "outputs": [],
   "source": [
    "score.parts[0].show(\"text\")"
   ]
  },
  {
   "cell_type": "code",
   "execution_count": null,
   "metadata": {},
   "outputs": [],
   "source": [
    "for m in score.parts[0]:\n",
    "    print(m.flatten().show(\"text\"))"
   ]
  },
  {
   "cell_type": "code",
   "execution_count": null,
   "metadata": {},
   "outputs": [],
   "source": [
    "score.parts[0].measure(1).flatten().show(\"text\")"
   ]
  },
  {
   "cell_type": "code",
   "execution_count": null,
   "metadata": {},
   "outputs": [],
   "source": [
    "score.parts[0].measure(2).flatten().show(\"text\")"
   ]
  },
  {
   "cell_type": "code",
   "execution_count": null,
   "metadata": {},
   "outputs": [],
   "source": [
    "score.parts"
   ]
  },
  {
   "cell_type": "code",
   "execution_count": null,
   "metadata": {},
   "outputs": [],
   "source": [
    "for m in score.parts[0]:\n",
    "    notes = list(m.flatten().notes)\n",
    "    midivals = set()\n",
    "    for n in notes:\n",
    "        print(n)\n",
    "        # if isinstance(n, m21.chord.Chord):\n",
    "        #     midivals.update([chnote.pitch.midi for chnote in n.notes])\n",
    "        # else:\n",
    "        #     midivals.add(n.pitch.midi)\n",
    "    midivals = list(midivals)\n",
    "    print(\"-------\")\n",
    "    # measuremap = TonnetzMap()\n",
    "    # measuremap.set_active_midi(midivals)"
   ]
  },
  {
   "cell_type": "code",
   "execution_count": null,
   "metadata": {},
   "outputs": [],
   "source": [
    "oops = tnzu.midi_to_tonnetzmaps(\"other_midis/The Legend of Zelda The Wind Waker - Title.mid\", interval=\"eighth\")\n",
    "oops[25].draw(radius=20)"
   ]
  },
  {
   "cell_type": "code",
   "execution_count": null,
   "metadata": {},
   "outputs": [],
   "source": [
    "import hexagdly\n",
    "import lightning as L\n",
    "from sklearn import metrics\n",
    "from sklearn.discriminant_analysis import LinearDiscriminantAnalysis\n",
    "from sklearn.random_projection import GaussianRandomProjection\n",
    "from sklearn.linear_model import LogisticRegression\n",
    "from sklearn.decomposition import PCA\n",
    "from sklearn.neighbors import KNeighborsClassifier\n",
    "import torch\n",
    "from torch import nn, optim\n",
    "import torch.nn.functional as F\n",
    "from torchvision.datasets import MNIST, EMNIST\n",
    "from torchvision.transforms import ToTensor\n",
    "from torch.utils.data import Dataset, random_split\n",
    "from torchvision import datasets\n",
    "from torchvision.transforms import v2\n",
    "import torchvision.transforms.functional as T"
   ]
  },
  {
   "cell_type": "markdown",
   "metadata": {},
   "source": [
    "FINITE TONNETZ MAP IS 13 X 9"
   ]
  },
  {
   "cell_type": "code",
   "execution_count": null,
   "metadata": {},
   "outputs": [],
   "source": [
    "nprev = 4\n",
    "interval=\"quarter\"\n",
    "quarterLength = 1\n",
    "songds = tnzc.MidiTonnetzDataset(\"other_midis/The Legend of Zelda Ocarina of Time - Gerudo Valley.mid\", nprev=nprev, interval=interval)\n",
    "\n",
    "songds_train, songds_test = random_split(songds, [0.8, 0.2])\n",
    "\n",
    "trainloader = torch.utils.data.DataLoader(songds_train, shuffle=True, num_workers=0, batch_size=8)\n",
    "testloader = torch.utils.data.DataLoader(songds_test, shuffle=False, num_workers=0, batch_size=8)\n",
    "\n",
    "# unetmodel = CrapModel(nchannels=nprev, pos_weight=5)\n",
    "unetmodel = tnzc.UNetModel(nchannels=nprev, pos_weight=5)\n",
    "trainer = L.Trainer(max_epochs=5)\n",
    "trainer.fit(model=unetmodel, train_dataloaders=trainloader)\n",
    "\n",
    "trainer.test(unetmodel, dataloaders=testloader)"
   ]
  },
  {
   "cell_type": "code",
   "execution_count": null,
   "metadata": {},
   "outputs": [],
   "source": [
    "unetmodel = unetmodel.to(\"mps\")\n",
    "unetmodel.eval()\n",
    "bpm = songds.score.parts[0].measure(1).getElementsByClass(m21.tempo.MetronomeMark)[0].number\n",
    "with torch.no_grad():\n",
    "    predmaps = [tnzu.TonnetzMap.from_oddqgrid(songds[0][0][0].numpy())]\n",
    "    predtensors = [songds[0][0].to(\"mps\").float()]\n",
    "    for i in range(100):\n",
    "        nextmeasuretensor = unetmodel(torch.unsqueeze(predtensors[-1], dim=0))\n",
    "        nextmeasureclasses = (F.sigmoid(nextmeasuretensor[0]) >= 0.5).float()\n",
    "        predtensors.append(torch.concat([predtensors[-1][1:], nextmeasureclasses]))\n",
    "        predmaps.append(tnzu.TonnetzMap.from_oddqgrid(nextmeasureclasses.to(\"cpu\").squeeze().numpy()))\n",
    "    predscore = tnzu.maps2chordscore(predmaps, quarterLength=quarterLength, bpm=bpm)\n",
    "    predscore.write(\"midi\", \"out/predicted.mid\")\n",
    "    tnzu.maps2tonnetzgif(predmaps, \"out/predicted.gif\", speed=100, radius=20)"
   ]
  },
  {
   "cell_type": "code",
   "execution_count": null,
   "metadata": {},
   "outputs": [],
   "source": [
    "testscore = tnzu.maps2chordscore(songds.tonnetzmaps, quarterLength=quarterLength)\n",
    "testscore.write(\"midi\", \"out/truth.mid\")\n",
    "tnzu.maps2tonnetzgif(songds.tonnetzmaps, \"out/truth.gif\", speed=100, radius=20)"
   ]
  }
 ],
 "metadata": {
  "kernelspec": {
   "display_name": "ece227",
   "language": "python",
   "name": "python3"
  },
  "language_info": {
   "codemirror_mode": {
    "name": "ipython",
    "version": 3
   },
   "file_extension": ".py",
   "mimetype": "text/x-python",
   "name": "python",
   "nbconvert_exporter": "python",
   "pygments_lexer": "ipython3",
   "version": "3.10.14"
  }
 },
 "nbformat": 4,
 "nbformat_minor": 2
}
