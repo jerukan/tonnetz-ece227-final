{
 "cells": [
  {
   "cell_type": "code",
   "execution_count": null,
   "metadata": {},
   "outputs": [],
   "source": [
    "%load_ext autoreload\n",
    "%autoreload 2\n",
    "%matplotlib inline"
   ]
  },
  {
   "cell_type": "code",
   "execution_count": null,
   "metadata": {},
   "outputs": [],
   "source": [
    "from pathlib import Path\n",
    "\n",
    "import lightning as L\n",
    "import matplotlib.pyplot as plt\n",
    "import music21 as m21\n",
    "import numpy as np\n",
    "from sklearn.metrics import fbeta_score\n",
    "import torch\n",
    "import torch.nn.functional as F\n",
    "\n",
    "import tonnetz_util as tnzu\n",
    "import tonnetz_cnn as tnzc"
   ]
  },
  {
   "cell_type": "markdown",
   "metadata": {},
   "source": [
    "# Game of life"
   ]
  },
  {
   "cell_type": "code",
   "execution_count": null,
   "metadata": {},
   "outputs": [],
   "source": [
    "tmap = tnzu.TonnetzMap()\n",
    "# tmap.set_active([[0, -1], [-1, 1], [1, 0]])\n",
    "tmap.set_active([[0, 0], [-1, 0]])"
   ]
  },
  {
   "cell_type": "code",
   "execution_count": null,
   "metadata": {},
   "outputs": [],
   "source": [
    "RULE_CONFIGURATION = {\n",
    "    'b': (2,),  # birth\n",
    "    's': (1, 2,),  # survival\n",
    "}"
   ]
  },
  {
   "cell_type": "code",
   "execution_count": null,
   "metadata": {},
   "outputs": [],
   "source": [
    "gamemaps = [tmap]\n",
    "for i in range(50):\n",
    "    gamemaps.append(tnzu.play_life_hex(gamemaps[-1], RULE_CONFIGURATION))\n",
    "imgs = [g.draw(radius=20) for g in gamemaps]"
   ]
  },
  {
   "cell_type": "code",
   "execution_count": null,
   "metadata": {},
   "outputs": [],
   "source": [
    "temp = tnzu.TonnetzMap()\n",
    "temp.set_active_midi([60, 64, 67])\n",
    "temp.draw(radius=30)"
   ]
  },
  {
   "cell_type": "code",
   "execution_count": null,
   "metadata": {},
   "outputs": [],
   "source": [
    "tnzu.maps2tonnetzgif(gamemaps, \"out/game.gif\", speed=100, radius=20)\n",
    "tnzu.maps2chordscore(gamemaps).write(\"midi\", \"out/game.mid\")"
   ]
  },
  {
   "cell_type": "code",
   "execution_count": null,
   "metadata": {},
   "outputs": [],
   "source": [
    "# pixcents = hx.axial_to_pixel(np.array(list(notenum2axial.values())), 1)\n",
    "pixcents = (tnzu.axial_to_pixel_mat @ np.array(list(tnzu.notenum2axial.values())).T).T\n",
    "# plotting on xy axis, not pixel coordinates\n",
    "pixcents[:, 1] *= -1\n",
    "fig, ax = plt.subplots()\n",
    "ax.scatter(pixcents[:, 0], pixcents[:, 1], s=1000, c=[[0.2, 0.6, 0.1, 0.5]], marker=\"o\", edgecolors=\"black\")\n",
    "ax.axis(\"equal\")\n",
    "for note, pixcent in zip(tnzu.notenum2axial.keys(), pixcents):\n",
    "    ax.text(pixcent[0], pixcent[1], m21.note.Note(note).nameWithOctave, horizontalalignment=\"center\", verticalalignment=\"center\")\n",
    "fig.set_size_inches(7, 7)"
   ]
  },
  {
   "cell_type": "markdown",
   "metadata": {},
   "source": [
    "convention used by the hex convolutions: odd-q flat"
   ]
  },
  {
   "cell_type": "markdown",
   "metadata": {},
   "source": [
    "# CNN stuff below"
   ]
  },
  {
   "cell_type": "markdown",
   "metadata": {},
   "source": [
    "FINITE TONNETZ MAP IS 13 X 9"
   ]
  },
  {
   "cell_type": "code",
   "execution_count": null,
   "metadata": {},
   "outputs": [],
   "source": [
    "def predict(model, intensor):\n",
    "    model.eval()\n",
    "    with torch.no_grad():\n",
    "        nextmeasuretensor = model(intensor)\n",
    "        nextmeasureclasses = (F.sigmoid(nextmeasuretensor) >= 0.5).float()\n",
    "        return nextmeasureclasses"
   ]
  },
  {
   "cell_type": "code",
   "execution_count": null,
   "metadata": {},
   "outputs": [],
   "source": [
    "nprev = 4\n",
    "interval=\"quarter\"\n",
    "quarterLength = 1\n",
    "# midipath = \"other_midis/The Legend of Zelda The Wind Waker - Title.mid\"\n",
    "midipath = \"other_midis/The Legend of Zelda Ocarina of Time - Gerudo Valley.mid\"\n",
    "songds = tnzc.MidiTonnetzDataset(midipath, nprev=nprev, interval=interval)\n",
    "\n",
    "# songds_train, songds_test = random_split(songds, [0.8, 0.2])\n",
    "\n",
    "trainloader = torch.utils.data.DataLoader(songds, shuffle=True, num_workers=0, batch_size=8)\n",
    "# testloader = torch.utils.data.DataLoader(songds_test, shuffle=False, num_workers=0, batch_size=8)\n",
    "\n",
    "model = tnzc.CrapModel(nchannels=nprev, pos_weight=5)\n",
    "# model = tnzc.UNetModel(nchannels=nprev, pos_weight=5)\n",
    "trainer = L.Trainer(max_epochs=5)\n",
    "trainer.fit(model=model, train_dataloaders=trainloader)\n",
    "\n",
    "trainer.test(model, dataloaders=trainloader)"
   ]
  },
  {
   "cell_type": "code",
   "execution_count": null,
   "metadata": {},
   "outputs": [],
   "source": [
    "model = model.to(\"mps\")\n",
    "model.eval()\n",
    "with torch.no_grad():\n",
    "    fbetas = []\n",
    "    for chordsin, chordtruth in songds:\n",
    "        predtensor = predict(model, chordsin.unsqueeze(0).to(\"mps\"))[0]\n",
    "        predarr = predtensor.cpu().numpy().squeeze()\n",
    "        trutharr = chordtruth.squeeze().numpy()\n",
    "        fbetas.append(fbeta_score(trutharr.reshape(-1), predarr.reshape(-1), beta=2))"
   ]
  },
  {
   "cell_type": "code",
   "execution_count": null,
   "metadata": {},
   "outputs": [],
   "source": [
    "np.mean(fbetas)"
   ]
  },
  {
   "cell_type": "code",
   "execution_count": null,
   "metadata": {},
   "outputs": [],
   "source": [
    "model = model.to(\"mps\")\n",
    "model.eval()\n",
    "\n",
    "bpm = songds.score.parts[0].measure(1).getElementsByClass(m21.tempo.MetronomeMark)[0].number\n",
    "\n",
    "# songds = tnzc.MidiTonnetzDataset(midipath, nprev=nprev, interval=interval, midioffset=-4)\n",
    "\n",
    "predmaps = []\n",
    "predtensors = [songds[-1][0].to(\"mps\").float()]\n",
    "with torch.no_grad():\n",
    "    for i in range(100):\n",
    "        nextmeasureclasses = predict(model, torch.unsqueeze(predtensors[-1], dim=0))[0]\n",
    "        # remove oldest chord, append predicted chord\n",
    "        predtensors.append(torch.concat([predtensors[-1][1:], nextmeasureclasses]))\n",
    "        predmaps.append(tnzu.TonnetzMap.from_oddqgrid(nextmeasureclasses.to(\"cpu\").squeeze().numpy()))\n",
    "predscore = tnzu.maps2chordscore(predmaps, quarterLength=quarterLength, bpm=bpm)\n",
    "predscore.write(\"midi\", \"out/predicted.mid\")\n",
    "tnzu.maps2tonnetzgif(predmaps, \"out/predicted.gif\", speed=100, radius=20)"
   ]
  },
  {
   "cell_type": "code",
   "execution_count": null,
   "metadata": {},
   "outputs": [],
   "source": [
    "predgrids = np.array([predmap.to_oddq_grid() for predmap in predmaps])\n",
    "truthgrids = songds.oddqgrids[nprev:]\n",
    "fbetas = []\n",
    "for i in range(min(len(predgrids), len(truthgrids))):\n",
    "    fbetas.append(fbeta_score(truthgrids[i].reshape(-1), predgrids[i].reshape(-1), beta=2))"
   ]
  },
  {
   "cell_type": "code",
   "execution_count": null,
   "metadata": {},
   "outputs": [],
   "source": [
    "plt.plot(fbetas)"
   ]
  },
  {
   "cell_type": "code",
   "execution_count": null,
   "metadata": {},
   "outputs": [],
   "source": [
    "testscore = tnzu.maps2chordscore(songds.tonnetzmaps, quarterLength=quarterLength)\n",
    "testscore.write(\"midi\", \"out/truth.mid\")\n",
    "tnzu.maps2tonnetzgif(songds.tonnetzmaps, \"out/truth.gif\", speed=100, radius=20)"
   ]
  },
  {
   "cell_type": "markdown",
   "metadata": {},
   "source": [
    "## mass cnn testing below, beware"
   ]
  },
  {
   "cell_type": "code",
   "execution_count": null,
   "metadata": {},
   "outputs": [],
   "source": [
    "nprev = 4\n",
    "interval=\"quarter\"\n",
    "quarterLength = 1\n",
    "\n",
    "# this is basically already shuffled\n",
    "midipaths = list(Path(\"piano_midis\").glob(\"*.mid\"))\n",
    "midiresults = {}\n",
    "\n",
    "for midipath in midipaths[:100]:\n",
    "    midisingleres = {}\n",
    "    songds = tnzc.MidiTonnetzDataset(midipath, nprev=nprev, interval=interval)\n",
    "    midisingleres[\"songds\"] = songds\n",
    "\n",
    "    # songds_train, songds_test = random_split(songds, [0.8, 0.2])\n",
    "\n",
    "    trainloader = torch.utils.data.DataLoader(songds, shuffle=True, num_workers=0, batch_size=16)\n",
    "    # testloader = torch.utils.data.DataLoader(songds_test, shuffle=False, num_workers=0, batch_size=8)\n",
    "\n",
    "    # model = tnzc.CrapModel(nchannels=nprev, pos_weight=5)\n",
    "    model = tnzc.UNetModel(nchannels=nprev, pos_weight=5)\n",
    "    trainer = L.Trainer(max_epochs=5)\n",
    "    trainer.fit(model=model, train_dataloaders=trainloader)\n",
    "    midisingleres[\"model\"] = model  # yeah it's named incorrectly\n",
    "\n",
    "    testres = trainer.test(model, dataloaders=trainloader)\n",
    "    midisingleres[\"trainloss\"] = testres[0][\"test_loss\"]  # yeah it's named incorrectly\n",
    "\n",
    "    model = model.to(\"mps\")\n",
    "    model.eval()\n",
    "    with torch.no_grad():\n",
    "        fbetas = []\n",
    "        for chordsin, chordtruth in songds:\n",
    "            predtensor = predict(model, chordsin.unsqueeze(0).to(\"mps\"))[0]\n",
    "            predarr = predtensor.cpu().numpy().squeeze()\n",
    "            trutharr = chordtruth.squeeze().numpy()\n",
    "            fbetas.append(fbeta_score(trutharr.reshape(-1), predarr.reshape(-1), beta=2))\n",
    "    midisingleres[\"fbetas\"] = fbetas\n",
    "    #--------------------------------------------------\n",
    "    bpm = songds.score.parts[0].measure(1).getElementsByClass(m21.tempo.MetronomeMark)[0].number\n",
    "\n",
    "    predmaps = []\n",
    "    predtensors = [songds[0][0].to(\"mps\").float()]\n",
    "    with torch.no_grad():\n",
    "        for i in range(100):\n",
    "            nextmeasureclasses = predict(model, torch.unsqueeze(predtensors[-1], dim=0))[0]\n",
    "            # remove oldest chord, append predicted chord\n",
    "            predtensors.append(torch.concat([predtensors[-1][1:], nextmeasureclasses]))\n",
    "            predmaps.append(tnzu.TonnetzMap.from_oddqgrid(nextmeasureclasses.to(\"cpu\").squeeze().numpy()))\n",
    "    predscore = tnzu.maps2chordscore(predmaps, quarterLength=quarterLength, bpm=bpm)\n",
    "    predscore.write(\"midi\", f\"out/predicted/{midipath.stem}-predicted.mid\")\n",
    "    tnzu.maps2tonnetzgif(predmaps, f\"out/predicted/{midipath.stem}-predicted.gif\", speed=100, radius=20)\n",
    "\n",
    "    predgrids = np.array([predmap.to_oddq_grid() for predmap in predmaps])\n",
    "    truthgrids = songds.oddqgrids[nprev:]\n",
    "    chain_fbetas = []\n",
    "    for i in range(min(len(predgrids), len(truthgrids))):\n",
    "        chain_fbetas.append(fbeta_score(truthgrids[i].reshape(-1), predgrids[i].reshape(-1), beta=2))\n",
    "    midisingleres[\"chain_fbetas\"] = chain_fbetas\n",
    "    midiresults[midipath] = midisingleres"
   ]
  },
  {
   "cell_type": "code",
   "execution_count": null,
   "metadata": {},
   "outputs": [],
   "source": [
    "trainlosssum = 0\n",
    "fbetasum = 0\n",
    "febetachainsum = 0\n",
    "for midipath, result in midiresults.items():\n",
    "    trainlosssum += result[\"trainloss\"]\n",
    "    fbetaarr = np.array(result[\"fbetas\"])\n",
    "    fbetasum += np.mean(result[\"fbetas\"])\n",
    "    febetachainsum += np.mean(result[\"chain_fbetas\"])"
   ]
  },
  {
   "cell_type": "code",
   "execution_count": null,
   "metadata": {},
   "outputs": [],
   "source": [
    "trainlosssum / len(midiresults), fbetasum / len(midiresults), febetachainsum / len(midiresults)"
   ]
  },
  {
   "cell_type": "code",
   "execution_count": null,
   "metadata": {},
   "outputs": [],
   "source": [
    "febetachain_arrs = []\n",
    "for midipath, result in midiresults.items():\n",
    "    if len(result[\"chain_fbetas\"]) == 100:\n",
    "        febetachain_arrs.append(result[\"chain_fbetas\"])\n",
    "febetachain_arrs = np.array(febetachain_arrs)"
   ]
  },
  {
   "cell_type": "code",
   "execution_count": null,
   "metadata": {},
   "outputs": [],
   "source": [
    "np.mean(febetachain_arrs, axis=0)"
   ]
  },
  {
   "cell_type": "code",
   "execution_count": null,
   "metadata": {},
   "outputs": [],
   "source": [
    "fig, ax = plt.subplots()\n",
    "ax.plot(np.mean(febetachain_arrs_simplcnn, axis=0))\n",
    "ax.plot(np.mean(febetachain_arrs, axis=0))\n",
    "ax.legend([\"Simple CNN\", \"UNet\"])\n",
    "ax.set_xlabel(\"Chord timestep\")\n",
    "ax.set_ylabel(\"F2 score\")\n",
    "ax.title.set_text(\"Simple CNN vs UNet\")\n",
    "fig.suptitle(\"Average F2 score for 100 models over 100 chord timesteps\")"
   ]
  }
 ],
 "metadata": {
  "kernelspec": {
   "display_name": "ece227",
   "language": "python",
   "name": "python3"
  },
  "language_info": {
   "codemirror_mode": {
    "name": "ipython",
    "version": 3
   },
   "file_extension": ".py",
   "mimetype": "text/x-python",
   "name": "python",
   "nbconvert_exporter": "python",
   "pygments_lexer": "ipython3",
   "version": "3.10.14"
  }
 },
 "nbformat": 4,
 "nbformat_minor": 2
}
